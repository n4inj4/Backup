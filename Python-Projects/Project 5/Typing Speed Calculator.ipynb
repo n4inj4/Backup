{
 "cells": [
  {
   "cell_type": "code",
   "execution_count": 1,
   "id": "b033887a-3a1e-43b3-8bae-e45b6966bdcc",
   "metadata": {},
   "outputs": [
    {
     "name": "stdin",
     "output_type": "stream",
     "text": [
      "Ready to test: Yes / No:  no\n"
     ]
    },
    {
     "name": "stdout",
     "output_type": "stream",
     "text": [
      "Thank you\n"
     ]
    }
   ],
   "source": [
    "from time import *\n",
    "import random as r\n",
    "\n",
    "def mistake(partest, usertest):\n",
    "    error = 0\n",
    "    len_partest = len(partest)\n",
    "    len_usertest = len(usertest)\n",
    "    min_len = min(len_partest, len_usertest)\n",
    "    \n",
    "    for i in range(min_len):\n",
    "        if partest[i] != usertest[i]:\n",
    "            error += 1\n",
    "            \n",
    "    # Count the remaining characters as errors\n",
    "    error += abs(len_partest - len_usertest)\n",
    "    return error\n",
    "\n",
    "def speed_time(time_s, time_e):\n",
    "    time_delay = time_e - time_s\n",
    "    minutes = int(time_delay // 60)\n",
    "    seconds = int(time_delay % 60)\n",
    "    return minutes, seconds\n",
    "\n",
    "if __name__ == \"__main__\":\n",
    "    paragraphs = [\n",
    "        \"A paragraph is a self-contained unit of discourse in writing dealing with a particular point or idea. A paragraph consists of one or more sentences. Though not required by the syntax of any language, paragraphs are usually an expected part of formal writing, used to organize longer prose.\",\n",
    "        \"My name is Salik Seraj Naik. I am currently learning various programming languages and working on improving my technical skills. I have a passion for cybersecurity and data science, and I am looking forward to contributing to these fields.\",\n",
    "        \"Follow me on various social media platforms to stay updated with my latest projects and achievements. I am actively engaged in sharing knowledge and collaborating with others in the tech community.\",\n",
    "        \"Python is a powerful programming language that is widely used in various domains such as web development, data science, artificial intelligence, and more. Its simplicity and readability make it a popular choice for beginners and experts alike.\",\n",
    "        \"Machine learning is a subset of artificial intelligence that focuses on building systems that learn from data. These systems improve their performance over time without being explicitly programmed. Applications of machine learning can be found in numerous fields, including healthcare, finance, and marketing.\",\n",
    "        \"Cybersecurity is a critical aspect of modern technology. With the increasing reliance on digital systems, protecting sensitive information from cyber threats has become more important than ever. Understanding the principles of cybersecurity and implementing best practices can help safeguard data and ensure the integrity of systems.\"\n",
    "    ]\n",
    "    \n",
    "    r.shuffle(paragraphs)\n",
    "    index = 0\n",
    "    total_paragraphs = len(paragraphs)\n",
    "\n",
    "    while True:\n",
    "        ck = input(\"Ready to test: Yes / No: \")\n",
    "        if ck.lower() == \"yes\":\n",
    "            if index >= total_paragraphs:\n",
    "                print(\"No more paragraphs left to test. Thank you!\")\n",
    "                break\n",
    "\n",
    "            test1 = paragraphs[index]\n",
    "            index += 1\n",
    "\n",
    "            print(\"******Typing Speed Calculator*******\")\n",
    "            print(test1)\n",
    "            print()\n",
    "            print()\n",
    "            time_1 = time()\n",
    "            testinput = input(\"Enter: \")\n",
    "            time_2 = time()\n",
    "    \n",
    "            minutes, seconds = speed_time(time_1, time_2)\n",
    "            print(f\"Time taken: {minutes} minutes and {seconds} seconds\")\n",
    "            print(\"Errors: \", mistake(test1, testinput))\n",
    "    \n",
    "        elif ck.lower() == \"no\":\n",
    "            print(\"Thank you\")\n",
    "            break\n",
    "        else:\n",
    "            print(\"Invalid input! Try again...\")\n"
   ]
  },
  {
   "cell_type": "code",
   "execution_count": null,
   "id": "508151ab-e317-4fda-9961-a9e5638f951c",
   "metadata": {},
   "outputs": [],
   "source": []
  }
 ],
 "metadata": {
  "kernelspec": {
   "display_name": "Python 3 (ipykernel)",
   "language": "python",
   "name": "python3"
  },
  "language_info": {
   "codemirror_mode": {
    "name": "ipython",
    "version": 3
   },
   "file_extension": ".py",
   "mimetype": "text/x-python",
   "name": "python",
   "nbconvert_exporter": "python",
   "pygments_lexer": "ipython3",
   "version": "3.12.3"
  }
 },
 "nbformat": 4,
 "nbformat_minor": 5
}
